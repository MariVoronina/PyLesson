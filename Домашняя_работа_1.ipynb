{
  "nbformat": 4,
  "nbformat_minor": 0,
  "metadata": {
    "colab": {
      "provenance": [],
      "collapsed_sections": [
        "ei22D1RVMemW",
        "R4lRSaMobgmJ",
        "lbiTDVUxcHKV",
        "WX0v8GqydGIo",
        "D3I8VmoCfjD_",
        "3ssndWp1hdF6",
        "eiSrl0YvijOv",
        "NPgap6n9jIyW",
        "CVMWk_oqnsW_",
        "OAog0zR-pTWJ",
        "apFXOLKopoZr",
        "53hOzATGrYLt",
        "sIATtyqlszT2",
        "7NLU_HX1tded",
        "bZkEeKbdwBma",
        "VgewBr0ewa9n"
      ],
      "authorship_tag": "ABX9TyMvN4/jYhK/SXeF1Xr65oXK",
      "include_colab_link": true
    },
    "kernelspec": {
      "name": "python3",
      "display_name": "Python 3"
    },
    "language_info": {
      "name": "python"
    }
  },
  "cells": [
    {
      "cell_type": "markdown",
      "metadata": {
        "id": "view-in-github",
        "colab_type": "text"
      },
      "source": [
        "<a href=\"https://colab.research.google.com/github/MariVoronina/PyLesson/blob/main/%D0%94%D0%BE%D0%BC%D0%B0%D1%88%D0%BD%D1%8F%D1%8F_%D1%80%D0%B0%D0%B1%D0%BE%D1%82%D0%B0_1.ipynb\" target=\"_parent\"><img src=\"https://colab.research.google.com/assets/colab-badge.svg\" alt=\"Open In Colab\"/></a>"
      ]
    },
    {
      "cell_type": "code",
      "source": [
        "import pandas as pd\n",
        "df = pd.read_csv(\"https://raw.githubusercontent.com/dm-fedorov/python_basic/master/data/students.stat\")"
      ],
      "metadata": {
        "id": "zLmSs84zMGWQ"
      },
      "execution_count": 5,
      "outputs": []
    },
    {
      "cell_type": "markdown",
      "source": [
        "## Задание 0"
      ],
      "metadata": {
        "id": "ei22D1RVMemW"
      }
    },
    {
      "cell_type": "code",
      "source": [
        "len(df[df[\"gender\"] == \"female\"])"
      ],
      "metadata": {
        "colab": {
          "base_uri": "https://localhost:8080/"
        },
        "id": "nZMv9kpXMwLB",
        "outputId": "262ac55f-4820-4406-c545-8999d2d7f56b"
      },
      "execution_count": 10,
      "outputs": [
        {
          "output_type": "execute_result",
          "data": {
            "text/plain": [
              "518"
            ]
          },
          "metadata": {},
          "execution_count": 10
        }
      ]
    },
    {
      "cell_type": "code",
      "source": [
        "len(df[df[\"gender\"] == \"male\"])"
      ],
      "metadata": {
        "colab": {
          "base_uri": "https://localhost:8080/"
        },
        "id": "264qa39bQ13T",
        "outputId": "61315fce-66da-4c89-a33c-d93f282d9755"
      },
      "execution_count": 11,
      "outputs": [
        {
          "output_type": "execute_result",
          "data": {
            "text/plain": [
              "482"
            ]
          },
          "metadata": {},
          "execution_count": 11
        }
      ]
    },
    {
      "cell_type": "markdown",
      "source": [
        "## Задание 1"
      ],
      "metadata": {
        "id": "R4lRSaMobgmJ"
      }
    },
    {
      "cell_type": "code",
      "source": [
        "len(df[df[\"parental level of education\"] == \"bachelor's degree\"])"
      ],
      "metadata": {
        "colab": {
          "base_uri": "https://localhost:8080/"
        },
        "id": "obQkt56AbmA8",
        "outputId": "6a479168-2f6b-4567-f078-e55b39dd78f8"
      },
      "execution_count": 13,
      "outputs": [
        {
          "output_type": "execute_result",
          "data": {
            "text/plain": [
              "118"
            ]
          },
          "metadata": {},
          "execution_count": 13
        }
      ]
    },
    {
      "cell_type": "markdown",
      "source": [
        "## Задание 2"
      ],
      "metadata": {
        "id": "lbiTDVUxcHKV"
      }
    },
    {
      "cell_type": "code",
      "source": [
        "df[\"parental level of education\"].nunique()"
      ],
      "metadata": {
        "colab": {
          "base_uri": "https://localhost:8080/"
        },
        "id": "m_5igcgscKGc",
        "outputId": "238c3c13-fb9d-43ae-a7ca-566a191e59ff"
      },
      "execution_count": 18,
      "outputs": [
        {
          "output_type": "execute_result",
          "data": {
            "text/plain": [
              "6"
            ]
          },
          "metadata": {},
          "execution_count": 18
        }
      ]
    },
    {
      "cell_type": "markdown",
      "source": [
        "## Задание 3"
      ],
      "metadata": {
        "id": "WX0v8GqydGIo"
      }
    },
    {
      "cell_type": "code",
      "source": [
        "len(df[df[\"lunch\"]==\"standard\"])/len(df)*100"
      ],
      "metadata": {
        "colab": {
          "base_uri": "https://localhost:8080/"
        },
        "id": "KFfvhHFidJCp",
        "outputId": "4ff5e064-3b17-44a9-8db5-75b06bb5755f"
      },
      "execution_count": 21,
      "outputs": [
        {
          "output_type": "execute_result",
          "data": {
            "text/plain": [
              "64.5"
            ]
          },
          "metadata": {},
          "execution_count": 21
        }
      ]
    },
    {
      "cell_type": "markdown",
      "source": [
        "## Задание 4"
      ],
      "metadata": {
        "id": "D3I8VmoCfjD_"
      }
    },
    {
      "cell_type": "code",
      "source": [
        "len(df[df[\"race/ethnicity\"]==\"group C\"])"
      ],
      "metadata": {
        "colab": {
          "base_uri": "https://localhost:8080/"
        },
        "id": "x4XeeyCDflk1",
        "outputId": "457ec985-275b-486a-89e0-74c01a8246e6"
      },
      "execution_count": 23,
      "outputs": [
        {
          "output_type": "execute_result",
          "data": {
            "text/plain": [
              "319"
            ]
          },
          "metadata": {},
          "execution_count": 23
        }
      ]
    },
    {
      "cell_type": "markdown",
      "source": [
        "## Задание 5"
      ],
      "metadata": {
        "id": "3ssndWp1hdF6"
      }
    },
    {
      "cell_type": "code",
      "source": [
        "df[\"race/ethnicity\"].nunique()"
      ],
      "metadata": {
        "colab": {
          "base_uri": "https://localhost:8080/"
        },
        "id": "wzRRImgRhhoy",
        "outputId": "ebbd7f3f-8d7f-4584-ae11-7c6d9ad2a707"
      },
      "execution_count": 24,
      "outputs": [
        {
          "output_type": "execute_result",
          "data": {
            "text/plain": [
              "5"
            ]
          },
          "metadata": {},
          "execution_count": 24
        }
      ]
    },
    {
      "cell_type": "markdown",
      "source": [
        "## Задание 6"
      ],
      "metadata": {
        "id": "eiSrl0YvijOv"
      }
    },
    {
      "cell_type": "code",
      "source": [
        "df[\"reading score\"].mean()"
      ],
      "metadata": {
        "colab": {
          "base_uri": "https://localhost:8080/"
        },
        "id": "5eTNowc3ilWH",
        "outputId": "8f6c5ec4-89ba-4e99-8921-2bf7d7a52efc"
      },
      "execution_count": 25,
      "outputs": [
        {
          "output_type": "execute_result",
          "data": {
            "text/plain": [
              "69.169"
            ]
          },
          "metadata": {},
          "execution_count": 25
        }
      ]
    },
    {
      "cell_type": "markdown",
      "source": [
        "## Задания 7"
      ],
      "metadata": {
        "id": "NPgap6n9jIyW"
      }
    },
    {
      "cell_type": "code",
      "source": [
        "len(df.query(\"`reading score` < 69.169\"))"
      ],
      "metadata": {
        "colab": {
          "base_uri": "https://localhost:8080/"
        },
        "id": "p5attCS8jUuD",
        "outputId": "b20e2345-31af-494c-9621-87b9d3ebe903"
      },
      "execution_count": 40,
      "outputs": [
        {
          "output_type": "execute_result",
          "data": {
            "text/plain": [
              "487"
            ]
          },
          "metadata": {},
          "execution_count": 40
        }
      ]
    },
    {
      "cell_type": "markdown",
      "source": [
        "## Задание 8"
      ],
      "metadata": {
        "id": "CVMWk_oqnsW_"
      }
    },
    {
      "cell_type": "code",
      "source": [
        "fm = df[df[\"gender\"] == \"female\"]\n",
        "round(fm[\"reading score\"].mean(), 3)"
      ],
      "metadata": {
        "colab": {
          "base_uri": "https://localhost:8080/"
        },
        "id": "5cbXvE1pnvaE",
        "outputId": "92557acc-3e32-4240-83a3-ff2728b33348"
      },
      "execution_count": 51,
      "outputs": [
        {
          "output_type": "execute_result",
          "data": {
            "text/plain": [
              "72.608"
            ]
          },
          "metadata": {},
          "execution_count": 51
        }
      ]
    },
    {
      "cell_type": "markdown",
      "source": [
        "## Задание 9"
      ],
      "metadata": {
        "id": "OAog0zR-pTWJ"
      }
    },
    {
      "cell_type": "code",
      "source": [
        "len(df.query(\"`writing score` > 90\"))"
      ],
      "metadata": {
        "colab": {
          "base_uri": "https://localhost:8080/"
        },
        "id": "uJTlnqzxpW5g",
        "outputId": "be566764-c273-45ed-ae97-ba2336101eda"
      },
      "execution_count": 52,
      "outputs": [
        {
          "output_type": "execute_result",
          "data": {
            "text/plain": [
              "68"
            ]
          },
          "metadata": {},
          "execution_count": 52
        }
      ]
    },
    {
      "cell_type": "markdown",
      "source": [
        "## Задание 10"
      ],
      "metadata": {
        "id": "apFXOLKopoZr"
      }
    },
    {
      "cell_type": "code",
      "source": [
        "len(df.query(\"`writing score` > 90 and lunch == 'standard'\"))"
      ],
      "metadata": {
        "colab": {
          "base_uri": "https://localhost:8080/"
        },
        "id": "kv9wnBefpqkw",
        "outputId": "dce4a606-4847-4ff5-ec2f-c931f308d4d7"
      },
      "execution_count": 59,
      "outputs": [
        {
          "output_type": "execute_result",
          "data": {
            "text/plain": [
              "59"
            ]
          },
          "metadata": {},
          "execution_count": 59
        }
      ]
    },
    {
      "cell_type": "markdown",
      "source": [
        "## Задание 11"
      ],
      "metadata": {
        "id": "53hOzATGrYLt"
      }
    },
    {
      "cell_type": "code",
      "source": [
        "len(df.query(\"gender == 'male' and lunch == 'standard'\"))"
      ],
      "metadata": {
        "colab": {
          "base_uri": "https://localhost:8080/"
        },
        "id": "C3JqOB6grcWg",
        "outputId": "454d392f-4936-46b0-c2d2-4c0c4d27d2fa"
      },
      "execution_count": 60,
      "outputs": [
        {
          "output_type": "execute_result",
          "data": {
            "text/plain": [
              "316"
            ]
          },
          "metadata": {},
          "execution_count": 60
        }
      ]
    },
    {
      "cell_type": "markdown",
      "source": [
        "## Задание 12"
      ],
      "metadata": {
        "id": "sIATtyqlszT2"
      }
    },
    {
      "cell_type": "code",
      "source": [
        "len(df.query(\"gender == 'male' and `test preparation course` == 'completed'\"))"
      ],
      "metadata": {
        "colab": {
          "base_uri": "https://localhost:8080/"
        },
        "id": "kWRODKSAs2S0",
        "outputId": "9c7340cc-7b14-4be2-e696-16ab33a21209"
      },
      "execution_count": 61,
      "outputs": [
        {
          "output_type": "execute_result",
          "data": {
            "text/plain": [
              "174"
            ]
          },
          "metadata": {},
          "execution_count": 61
        }
      ]
    },
    {
      "cell_type": "markdown",
      "source": [
        "## Задание 13"
      ],
      "metadata": {
        "id": "7NLU_HX1tded"
      }
    },
    {
      "cell_type": "code",
      "source": [
        "len(df.query('gender == \"female\" and `parental level of education` == \"master\\'s degree\"'))"
      ],
      "metadata": {
        "colab": {
          "base_uri": "https://localhost:8080/"
        },
        "id": "A7Pv5atxthAq",
        "outputId": "82bb2d2d-6ae2-4440-d7f1-c3dc6b04d8de"
      },
      "execution_count": 67,
      "outputs": [
        {
          "output_type": "execute_result",
          "data": {
            "text/plain": [
              "36"
            ]
          },
          "metadata": {},
          "execution_count": 67
        }
      ]
    },
    {
      "cell_type": "markdown",
      "source": [
        "## Задание 14"
      ],
      "metadata": {
        "id": "bZkEeKbdwBma"
      }
    },
    {
      "cell_type": "code",
      "source": [
        "len(df.query(\"`race/ethnicity` == 'group C' and `test preparation course` == 'completed'\"))"
      ],
      "metadata": {
        "colab": {
          "base_uri": "https://localhost:8080/"
        },
        "id": "VMMEBYvfwEGY",
        "outputId": "cb02d36b-2cc2-4fd5-dc1e-aa6a538b8748"
      },
      "execution_count": 68,
      "outputs": [
        {
          "output_type": "execute_result",
          "data": {
            "text/plain": [
              "117"
            ]
          },
          "metadata": {},
          "execution_count": 68
        }
      ]
    },
    {
      "cell_type": "markdown",
      "source": [
        "## Задание 15"
      ],
      "metadata": {
        "id": "VgewBr0ewa9n"
      }
    },
    {
      "cell_type": "code",
      "source": [
        "len(df.query('gender == \"female\" and `parental level of education` == \"master\\'s degree\" and `math score` > 90'))"
      ],
      "metadata": {
        "colab": {
          "base_uri": "https://localhost:8080/"
        },
        "id": "J_qRS1iRwdgK",
        "outputId": "76db4200-7f6e-4582-e485-265bed69efca"
      },
      "execution_count": 69,
      "outputs": [
        {
          "output_type": "execute_result",
          "data": {
            "text/plain": [
              "2"
            ]
          },
          "metadata": {},
          "execution_count": 69
        }
      ]
    }
  ]
}